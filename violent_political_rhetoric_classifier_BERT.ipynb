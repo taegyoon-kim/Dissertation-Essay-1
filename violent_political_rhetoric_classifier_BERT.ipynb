{
  "nbformat": 4,
  "nbformat_minor": 0,
  "metadata": {
    "accelerator": "GPU",
    "colab": {
      "name": "violent_political_rhetoric_classifier_BERT.ipynb",
      "provenance": [],
      "collapsed_sections": [],
      "machine_shape": "hm"
    },
    "kernelspec": {
      "display_name": "Python 3",
      "name": "python3"
    }
  },
  "cells": [
    {
      "cell_type": "markdown",
      "metadata": {
        "id": "I1UmhiynTVYF"
      },
      "source": [
        "**1. Install libararies**"
      ]
    },
    {
      "cell_type": "code",
      "metadata": {
        "id": "IchOpHbOWgwo"
      },
      "source": [
        "from google.colab import drive\n",
        "drive.mount(\"/content/drive\")"
      ],
      "execution_count": null,
      "outputs": []
    },
    {
      "cell_type": "code",
      "metadata": {
        "id": "ZEQWPt7bg2Ek"
      },
      "source": [
        "!pip install torch torchvision\n",
        "!pip install transformers==2.10.0\n",
        "!pip install seqeval\n",
        "!pip install tensorboardx\n",
        "!pip install simpletransformers==0.9.1"
      ],
      "execution_count": null,
      "outputs": []
    },
    {
      "cell_type": "markdown",
      "metadata": {
        "id": "bNfWpwgX5Yan"
      },
      "source": [
        "**2. Import libraries**"
      ]
    },
    {
      "cell_type": "code",
      "metadata": {
        "id": "0_UAgUZkgqJm",
        "colab": {
          "base_uri": "https://localhost:8080/"
        },
        "outputId": "7b4e1ac2-a869-49a7-c491-e108ceaf581e"
      },
      "source": [
        "%matplotlib inline\n",
        "\n",
        "import pandas as pd\n",
        "import numpy as np\n",
        "\n",
        "import gc\n",
        "import requests\n",
        "import os\n",
        "\n",
        "from simpletransformers.classification import ClassificationModel\n",
        "from sklearn.metrics import f1_score, accuracy_score, roc_auc_score, recall_score, precision_score\n",
        "from scipy.special import softmax\n",
        "\n",
        "import torch\n",
        "print(\"Cuda available\" if torch.cuda.is_available() is True else \"CPU\")\n",
        "print(\"PyTorch version: \", torch.__version__)"
      ],
      "execution_count": null,
      "outputs": [
        {
          "output_type": "stream",
          "text": [
            "Cuda available\n",
            "PyTorch version:  1.7.0+cu101\n"
          ],
          "name": "stdout"
        }
      ]
    },
    {
      "cell_type": "markdown",
      "metadata": {
        "id": "d4k5z4eI51Q7"
      },
      "source": [
        "**3. Download the data into PD DataFrame**"
      ]
    },
    {
      "cell_type": "code",
      "metadata": {
        "id": "Mj5WtN6LnTzI"
      },
      "source": [
        "url= \"https://raw.githubusercontent.com/taegyoon-kim/Dissertation-Essay-1/master/training_sep21.csv\"\n",
        "\n",
        "df = pd.read_csv(url, error_bad_lines=False)\n",
        "df['text'] = df['status_final_text']\n",
        "df['threat'] = df['final_binary'].astype(float)\n",
        "df = df[['text','threat']]\n",
        "\n",
        "df = df.sample(frac=1).reset_index(drop=True)"
      ],
      "execution_count": null,
      "outputs": []
    },
    {
      "cell_type": "markdown",
      "metadata": {
        "id": "2iGMeXa7TmB0"
      },
      "source": [
        "**4. Performance metrics**"
      ]
    },
    {
      "cell_type": "code",
      "metadata": {
        "id": "1xzlfdywQDGm"
      },
      "source": [
        "def report_results(A, B):\n",
        "    A_name = A.name\n",
        "    B_name = B.name\n",
        "    \n",
        "    df = pd.DataFrame({'A':A,\n",
        "                       'B':B})\n",
        "    df = df.dropna()\n",
        "    A = df['A']\n",
        "    B = df['B']\n",
        "    \n",
        "    acc = accuracy_score(B, A)\n",
        "    f1 = f1_score(B, A)\n",
        "    prec = precision_score(B, A)\n",
        "    rec = recall_score(B, A)\n",
        "    ROC = roc_auc_score(B, A)\n",
        "    \n",
        "    print('Candidate: '+A_name+' | Ground Truth: '+B_name+'\\n')\n",
        "    print('accuracy: %0.4f \\nprecision: %0.4f \\nrecall: %0.4f \\nF1 score: %0.4f \\nROC AUC: %0.4f \\n' % (acc, prec, rec, f1, ROC))\n",
        "\n",
        "    performance = [prec, rec, f1, ROC, acc]\n",
        "\n",
        "    return performance"
      ],
      "execution_count": null,
      "outputs": []
    },
    {
      "cell_type": "markdown",
      "metadata": {
        "id": "Kdmb_JZ6TtPg"
      },
      "source": [
        "**5. Train and Test (5-fold CV)**"
      ]
    },
    {
      "cell_type": "code",
      "metadata": {
        "id": "oHbJu47MOsGl"
      },
      "source": [
        "args = {\n",
        "   'output_dir': 'outputs/',\n",
        "   'cache_dir': 'cache/',\n",
        "\n",
        "   'fp16': False,\n",
        "   'fp16_opt_level': 'O1',\n",
        "   'max_seq_length': 250,\n",
        "   'train_batch_size': 8,\n",
        "   'eval_batch_size': 8,\n",
        "   'gradient_accumulation_steps': 1,\n",
        "   'num_train_epochs': 2,\n",
        "   'weight_decay': 0,\n",
        "   'learning_rate': 4e-5,\n",
        "   'adam_epsilon': 1e-8,\n",
        "   'warmup_ratio': 0.06,\n",
        "   'warmup_steps': 0,\n",
        "   'max_grad_norm': 1.0,\n",
        "\n",
        "   'logging_steps': 50,\n",
        "   'evaluate_during_training': False,\n",
        "   'save_steps': 2000,\n",
        "   'eval_all_checkpoints': True,\n",
        "   'use_tensorboard': True,\n",
        "\n",
        "   'overwrite_output_dir': True,\n",
        "   'reprocess_input_data': True   \n",
        "}\n",
        "\n",
        "from sklearn.model_selection import KFold\n",
        "n = 5\n",
        "kf = KFold(n_splits = n, random_state = 777, shuffle = True)\n",
        "\n",
        "for train_index, val_index in kf.split(df):\n",
        "  # splitting Dataframe (dataset not included)\n",
        "    train_df = df.iloc[train_index]\n",
        "    val_df = df.iloc[val_index]\n",
        "  # Defining Model\n",
        "    model = ClassificationModel('bert', 'bert-base-uncased', args = args)\n",
        "  # train the model\n",
        "    model.train_model(train_df)\n",
        "  # validate the model \n",
        "    #result, model_outputs, wrong_predictions = model.eval_model(val_df)\n",
        "    #val_df['BERT_threat'] = np.argmax(model_outputs, axis = 1)\n",
        "    predictions, raw_outputs = model.predict(val_df['text'])\n",
        "    probabilities = softmax(raw_outputs, axis=1)\n",
        "    val_df['BERT_threat_900'] = np.where(probabilities[:,1] >= 0.9, 1, 0)\n",
        "    val_df['BERT_threat_925'] = np.where(probabilities[:,1] >= 0.925, 1, 0)\n",
        "    val_df['BERT_threat_950'] = np.where(probabilities[:,1] >= 0.95, 1, 0)\n",
        "  # performance\n",
        "    performance_900 = report_results(val_df['BERT_threat_900'], val_df['threat'])\n",
        "    performance_925 = report_results(val_df['BERT_threat_925'], val_df['threat'])\n",
        "    performance_950 = report_results(val_df['BERT_threat_950'], val_df['threat'])\n",
        "    print(performance_900)\n",
        "    print(performance_925)\n",
        "    print(performance_950)"
      ],
      "execution_count": null,
      "outputs": []
    }
  ]
}